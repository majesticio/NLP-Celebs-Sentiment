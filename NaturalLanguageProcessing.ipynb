{
  "nbformat": 4,
  "nbformat_minor": 0,
  "metadata": {
    "colab": {
      "name": "NaturalLanguageProcessing.ipynb",
      "provenance": [],
      "collapsed_sections": [],
      "toc_visible": true,
      "mount_file_id": "12G-C_eRXJ5XIXPhv1C-J2Ys3zE1zlLL0",
      "authorship_tag": "ABX9TyOrPDxs+bq+T7QY9ackrnPI",
      "include_colab_link": true
    },
    "kernelspec": {
      "name": "python3",
      "display_name": "Python 3"
    }
  },
  "cells": [
    {
      "cell_type": "markdown",
      "metadata": {
        "id": "view-in-github",
        "colab_type": "text"
      },
      "source": [
        "<a href=\"https://colab.research.google.com/github/majesticio/NLP-Celebs-Sentiment/blob/master/NaturalLanguageProcessing.ipynb\" target=\"_parent\"><img src=\"https://colab.research.google.com/assets/colab-badge.svg\" alt=\"Open In Colab\"/></a>"
      ]
    },
    {
      "cell_type": "markdown",
      "metadata": {
        "id": "pD4Etkms2xq-",
        "colab_type": "text"
      },
      "source": [
        "#Natural Language Processing\n",
        "*Interpret text with ML to gain insight into subjects and their authors' sentiment*\n",
        "\n",
        "---\n",
        "by **Gabriel Fosse**"
      ]
    },
    {
      "cell_type": "markdown",
      "metadata": {
        "id": "ASzgKxLZ5mHi",
        "colab_type": "text"
      },
      "source": [
        "##Install Packages into VM"
      ]
    },
    {
      "cell_type": "code",
      "metadata": {
        "id": "PrmyshwN5sG_",
        "colab_type": "code",
        "colab": {
          "base_uri": "https://localhost:8080/",
          "height": 146
        },
        "outputId": "c4895399-7107-4598-d136-3134d5f5abc5"
      },
      "source": [
        "!pip install wikipedia"
      ],
      "execution_count": 308,
      "outputs": [
        {
          "output_type": "stream",
          "text": [
            "Requirement already satisfied: wikipedia in /usr/local/lib/python3.6/dist-packages (1.4.0)\n",
            "Requirement already satisfied: beautifulsoup4 in /usr/local/lib/python3.6/dist-packages (from wikipedia) (4.6.3)\n",
            "Requirement already satisfied: requests<3.0.0,>=2.0.0 in /usr/local/lib/python3.6/dist-packages (from wikipedia) (2.23.0)\n",
            "Requirement already satisfied: chardet<4,>=3.0.2 in /usr/local/lib/python3.6/dist-packages (from requests<3.0.0,>=2.0.0->wikipedia) (3.0.4)\n",
            "Requirement already satisfied: certifi>=2017.4.17 in /usr/local/lib/python3.6/dist-packages (from requests<3.0.0,>=2.0.0->wikipedia) (2020.6.20)\n",
            "Requirement already satisfied: urllib3!=1.25.0,!=1.25.1,<1.26,>=1.21.1 in /usr/local/lib/python3.6/dist-packages (from requests<3.0.0,>=2.0.0->wikipedia) (1.24.3)\n",
            "Requirement already satisfied: idna<3,>=2.5 in /usr/local/lib/python3.6/dist-packages (from requests<3.0.0,>=2.0.0->wikipedia) (2.10)\n"
          ],
          "name": "stdout"
        }
      ]
    },
    {
      "cell_type": "code",
      "metadata": {
        "id": "xlgpx1qT4HhC",
        "colab_type": "code",
        "colab": {
          "base_uri": "https://localhost:8080/",
          "height": 293
        },
        "outputId": "a9a53708-7844-40bc-fae9-f4244d49e54a"
      },
      "source": [
        "!python -m textblob.download_corpora"
      ],
      "execution_count": 309,
      "outputs": [
        {
          "output_type": "stream",
          "text": [
            "[nltk_data] Downloading package brown to /root/nltk_data...\n",
            "[nltk_data]   Package brown is already up-to-date!\n",
            "[nltk_data] Downloading package punkt to /root/nltk_data...\n",
            "[nltk_data]   Package punkt is already up-to-date!\n",
            "[nltk_data] Downloading package wordnet to /root/nltk_data...\n",
            "[nltk_data]   Package wordnet is already up-to-date!\n",
            "[nltk_data] Downloading package averaged_perceptron_tagger to\n",
            "[nltk_data]     /root/nltk_data...\n",
            "[nltk_data]   Package averaged_perceptron_tagger is already up-to-\n",
            "[nltk_data]       date!\n",
            "[nltk_data] Downloading package conll2000 to /root/nltk_data...\n",
            "[nltk_data]   Package conll2000 is already up-to-date!\n",
            "[nltk_data] Downloading package movie_reviews to /root/nltk_data...\n",
            "[nltk_data]   Package movie_reviews is already up-to-date!\n",
            "Finished.\n"
          ],
          "name": "stdout"
        }
      ]
    },
    {
      "cell_type": "markdown",
      "metadata": {
        "id": "AqF-BvjG4OFE",
        "colab_type": "text"
      },
      "source": [
        "##Import Libraries"
      ]
    },
    {
      "cell_type": "code",
      "metadata": {
        "id": "_va7AEy-3KCM",
        "colab_type": "code",
        "colab": {}
      },
      "source": [
        "import pandas as pd\n",
        "import wikipedia\n",
        "from PIL import Image\n",
        "import random\n",
        "from sklearn.neighbors import NearestNeighbors\n",
        "from sklearn.feature_extraction.text import CountVectorizer\n",
        "from textblob import TextBlob\n",
        "import matplotlib.pyplot as plt\n",
        "import numpy as np"
      ],
      "execution_count": 310,
      "outputs": []
    },
    {
      "cell_type": "code",
      "metadata": {
        "id": "Xo3sTxEe4FXq",
        "colab_type": "code",
        "colab": {}
      },
      "source": [
        "#Perameters for pandas\n",
        "pd.set_option('display.max_rows', 150)\n",
        "pd.set_option('display.max_columns', 150)"
      ],
      "execution_count": 311,
      "outputs": []
    },
    {
      "cell_type": "markdown",
      "metadata": {
        "id": "mJyXU2HY4TN2",
        "colab_type": "text"
      },
      "source": [
        "##Data Collection"
      ]
    },
    {
      "cell_type": "markdown",
      "metadata": {
        "id": "-CF9J8sW5M9T",
        "colab_type": "text"
      },
      "source": [
        "###File Paths"
      ]
    },
    {
      "cell_type": "code",
      "metadata": {
        "id": "Kp3zroPc4WvZ",
        "colab_type": "code",
        "colab": {}
      },
      "source": [
        "file_path = '/content/drive/My Drive/Colab Notebooks/Project_4_data/people_db.csv'"
      ],
      "execution_count": 312,
      "outputs": []
    },
    {
      "cell_type": "markdown",
      "metadata": {
        "id": "2d6f1dP7DUev",
        "colab_type": "text"
      },
      "source": [
        "###Source"
      ]
    },
    {
      "cell_type": "markdown",
      "metadata": {
        "id": "DpyxhloXCHuj",
        "colab_type": "text"
      },
      "source": [
        "Sourced from http://dbpedia.org. DBpedia is a crowd-sourced community effort to extract structured content from the information created in various Wikimedia projects."
      ]
    },
    {
      "cell_type": "markdown",
      "metadata": {
        "id": "i7XqtV8lDdSh",
        "colab_type": "text"
      },
      "source": [
        "###DataFrame"
      ]
    },
    {
      "cell_type": "markdown",
      "metadata": {
        "id": "k0S0maFcA-4k",
        "colab_type": "text"
      },
      "source": [
        "*Create a variable for our celebrity dataframe as => celebs*"
      ]
    },
    {
      "cell_type": "code",
      "metadata": {
        "id": "rJYQ2hzc44w8",
        "colab_type": "code",
        "colab": {}
      },
      "source": [
        "celebs = pd.read_csv(file_path)"
      ],
      "execution_count": 313,
      "outputs": []
    },
    {
      "cell_type": "code",
      "metadata": {
        "id": "Jua_WCzq5CGH",
        "colab_type": "code",
        "colab": {
          "base_uri": "https://localhost:8080/",
          "height": 424
        },
        "outputId": "e7754be1-4eb8-4c41-8867-2b166acbaf7b"
      },
      "source": [
        "celebs\n"
      ],
      "execution_count": 314,
      "outputs": [
        {
          "output_type": "execute_result",
          "data": {
            "text/html": [
              "<div>\n",
              "<style scoped>\n",
              "    .dataframe tbody tr th:only-of-type {\n",
              "        vertical-align: middle;\n",
              "    }\n",
              "\n",
              "    .dataframe tbody tr th {\n",
              "        vertical-align: top;\n",
              "    }\n",
              "\n",
              "    .dataframe thead th {\n",
              "        text-align: right;\n",
              "    }\n",
              "</style>\n",
              "<table border=\"1\" class=\"dataframe\">\n",
              "  <thead>\n",
              "    <tr style=\"text-align: right;\">\n",
              "      <th></th>\n",
              "      <th>URI</th>\n",
              "      <th>name</th>\n",
              "      <th>text</th>\n",
              "    </tr>\n",
              "  </thead>\n",
              "  <tbody>\n",
              "    <tr>\n",
              "      <th>0</th>\n",
              "      <td>&lt;http://dbpedia.org/resource/Digby_Morrell&gt;</td>\n",
              "      <td>Digby Morrell</td>\n",
              "      <td>digby morrell born 10 october 1979 is a former...</td>\n",
              "    </tr>\n",
              "    <tr>\n",
              "      <th>1</th>\n",
              "      <td>&lt;http://dbpedia.org/resource/Alfred_J._Lewy&gt;</td>\n",
              "      <td>Alfred J. Lewy</td>\n",
              "      <td>alfred j lewy aka sandy lewy graduated from un...</td>\n",
              "    </tr>\n",
              "    <tr>\n",
              "      <th>2</th>\n",
              "      <td>&lt;http://dbpedia.org/resource/Harpdog_Brown&gt;</td>\n",
              "      <td>Harpdog Brown</td>\n",
              "      <td>harpdog brown is a singer and harmonica player...</td>\n",
              "    </tr>\n",
              "    <tr>\n",
              "      <th>3</th>\n",
              "      <td>&lt;http://dbpedia.org/resource/Franz_Rottensteiner&gt;</td>\n",
              "      <td>Franz Rottensteiner</td>\n",
              "      <td>franz rottensteiner born in waidmannsfeld lowe...</td>\n",
              "    </tr>\n",
              "    <tr>\n",
              "      <th>4</th>\n",
              "      <td>&lt;http://dbpedia.org/resource/G-Enka&gt;</td>\n",
              "      <td>G-Enka</td>\n",
              "      <td>henry krvits born 30 december 1974 in tallinn ...</td>\n",
              "    </tr>\n",
              "    <tr>\n",
              "      <th>...</th>\n",
              "      <td>...</td>\n",
              "      <td>...</td>\n",
              "      <td>...</td>\n",
              "    </tr>\n",
              "    <tr>\n",
              "      <th>42781</th>\n",
              "      <td>&lt;http://dbpedia.org/resource/Motoaki_Takenouchi&gt;</td>\n",
              "      <td>Motoaki Takenouchi</td>\n",
              "      <td>motoaki takenouchi born july 8 1967 saitama pr...</td>\n",
              "    </tr>\n",
              "    <tr>\n",
              "      <th>42782</th>\n",
              "      <td>&lt;http://dbpedia.org/resource/Alan_Judge_(footb...</td>\n",
              "      <td>Alan Judge (footballer, born 1960)</td>\n",
              "      <td>alan graham judge born 14 may 1960 is a retire...</td>\n",
              "    </tr>\n",
              "    <tr>\n",
              "      <th>42783</th>\n",
              "      <td>&lt;http://dbpedia.org/resource/Eduardo_Lara&gt;</td>\n",
              "      <td>Eduardo Lara</td>\n",
              "      <td>eduardo lara lozano born 4 september 1959 in c...</td>\n",
              "    </tr>\n",
              "    <tr>\n",
              "      <th>42784</th>\n",
              "      <td>&lt;http://dbpedia.org/resource/Tatiana_Faberg%C3...</td>\n",
              "      <td>Tatiana Faberg%C3%A9</td>\n",
              "      <td>tatiana faberg is an author and faberg scholar...</td>\n",
              "    </tr>\n",
              "    <tr>\n",
              "      <th>42785</th>\n",
              "      <td>&lt;http://dbpedia.org/resource/Kenneth_Thomas&gt;</td>\n",
              "      <td>Kenneth Thomas</td>\n",
              "      <td>kenneth thomas born february 24 1938 was chief...</td>\n",
              "    </tr>\n",
              "  </tbody>\n",
              "</table>\n",
              "<p>42786 rows × 3 columns</p>\n",
              "</div>"
            ],
            "text/plain": [
              "                                                     URI  \\\n",
              "0            <http://dbpedia.org/resource/Digby_Morrell>   \n",
              "1           <http://dbpedia.org/resource/Alfred_J._Lewy>   \n",
              "2            <http://dbpedia.org/resource/Harpdog_Brown>   \n",
              "3      <http://dbpedia.org/resource/Franz_Rottensteiner>   \n",
              "4                   <http://dbpedia.org/resource/G-Enka>   \n",
              "...                                                  ...   \n",
              "42781   <http://dbpedia.org/resource/Motoaki_Takenouchi>   \n",
              "42782  <http://dbpedia.org/resource/Alan_Judge_(footb...   \n",
              "42783         <http://dbpedia.org/resource/Eduardo_Lara>   \n",
              "42784  <http://dbpedia.org/resource/Tatiana_Faberg%C3...   \n",
              "42785       <http://dbpedia.org/resource/Kenneth_Thomas>   \n",
              "\n",
              "                                     name  \\\n",
              "0                           Digby Morrell   \n",
              "1                          Alfred J. Lewy   \n",
              "2                           Harpdog Brown   \n",
              "3                     Franz Rottensteiner   \n",
              "4                                  G-Enka   \n",
              "...                                   ...   \n",
              "42781                  Motoaki Takenouchi   \n",
              "42782  Alan Judge (footballer, born 1960)   \n",
              "42783                        Eduardo Lara   \n",
              "42784                Tatiana Faberg%C3%A9   \n",
              "42785                      Kenneth Thomas   \n",
              "\n",
              "                                                    text  \n",
              "0      digby morrell born 10 october 1979 is a former...  \n",
              "1      alfred j lewy aka sandy lewy graduated from un...  \n",
              "2      harpdog brown is a singer and harmonica player...  \n",
              "3      franz rottensteiner born in waidmannsfeld lowe...  \n",
              "4      henry krvits born 30 december 1974 in tallinn ...  \n",
              "...                                                  ...  \n",
              "42781  motoaki takenouchi born july 8 1967 saitama pr...  \n",
              "42782  alan graham judge born 14 may 1960 is a retire...  \n",
              "42783  eduardo lara lozano born 4 september 1959 in c...  \n",
              "42784  tatiana faberg is an author and faberg scholar...  \n",
              "42785  kenneth thomas born february 24 1938 was chief...  \n",
              "\n",
              "[42786 rows x 3 columns]"
            ]
          },
          "metadata": {
            "tags": []
          },
          "execution_count": 314
        }
      ]
    },
    {
      "cell_type": "markdown",
      "metadata": {
        "id": "ctGoCjyNO2Ta",
        "colab_type": "text"
      },
      "source": [
        "##Data Cleaning"
      ]
    },
    {
      "cell_type": "markdown",
      "metadata": {
        "id": "u77wAyU5Dn-I",
        "colab_type": "text"
      },
      "source": [
        "*Lets check for null values...*"
      ]
    },
    {
      "cell_type": "code",
      "metadata": {
        "id": "m_B9giu0jeQM",
        "colab_type": "code",
        "colab": {
          "base_uri": "https://localhost:8080/",
          "height": 35
        },
        "outputId": "64a2cda6-c606-43ef-a2e4-6e6fc5eaa04a"
      },
      "source": [
        "celebs.isna().sum().sum()"
      ],
      "execution_count": 315,
      "outputs": [
        {
          "output_type": "execute_result",
          "data": {
            "text/plain": [
              "0"
            ]
          },
          "metadata": {
            "tags": []
          },
          "execution_count": 315
        }
      ]
    },
    {
      "cell_type": "markdown",
      "metadata": {
        "id": "4r2JhdDI6Ne4",
        "colab_type": "text"
      },
      "source": [
        "##Wikipedia API\n",
        "*Let's test it out*"
      ]
    },
    {
      "cell_type": "code",
      "metadata": {
        "id": "-zGn6he-5FZO",
        "colab_type": "code",
        "colab": {
          "base_uri": "https://localhost:8080/",
          "height": 55
        },
        "outputId": "d3b52bcd-3efb-413a-8078-f8518c60f333"
      },
      "source": [
        "# finding result for the search \n",
        "# sentences = 2 refers to numbers of lines\n",
        "result = wikipedia.summary(\"India\", sentences = 2)  \n",
        "  \n",
        "# printing the result \n",
        "print(result)"
      ],
      "execution_count": 316,
      "outputs": [
        {
          "output_type": "stream",
          "text": [
            "India (Hindi: Bhārat), officially the Republic of India (Hindi: Bhārat Gaṇarājya), is a country in South Asia. It is the second-most populous country, the seventh-largest country by land area, and the most populous democracy in the world.\n"
          ],
          "name": "stdout"
        }
      ]
    },
    {
      "cell_type": "markdown",
      "metadata": {
        "id": "1NShtXpw6uc7",
        "colab_type": "text"
      },
      "source": [
        "Great it works! (V)_(;,,;)_(V)\n",
        "\n",
        "*Lets try a name from the previous database...*"
      ]
    },
    {
      "cell_type": "code",
      "metadata": {
        "id": "mPQkN5lC6ruZ",
        "colab_type": "code",
        "colab": {}
      },
      "source": [
        "example = wikipedia.summary(\"Eduardo Lara\", sentences = 6)  "
      ],
      "execution_count": 317,
      "outputs": []
    },
    {
      "cell_type": "code",
      "metadata": {
        "id": "hyU0FlKc7gHB",
        "colab_type": "code",
        "colab": {
          "base_uri": "https://localhost:8080/",
          "height": 110
        },
        "outputId": "b8dcc0e2-0698-46e0-eabf-27b59ec932d2"
      },
      "source": [
        "example"
      ],
      "execution_count": 318,
      "outputs": [
        {
          "output_type": "execute_result",
          "data": {
            "application/vnd.google.colaboratory.intrinsic+json": {
              "type": "string"
            },
            "text/plain": [
              "'Eduardo Lara Lozano (born 4 September 1959 in Cali) is a Colombian football manager. Lara has coached all levels of the Colombian national youth team.\\n\\n\\n== Career ==\\nHe led the Colombian under-20s (U20s) in 2005 to win the Sudamericana and to the World Cup, where they lost in the quarter-finals to Argentina.\\nIn 2007 his U20s failed to make it to the World Cup, but the under-17s qualified for the World Cup in Korea by finishing 2nd in the Sudamericana, by goal differential to Brazil.\\nOn September 19, 2008, he was named as a provisional manager for a major Colombian football team after Jorge Luis Pinto was dismissed by the board of the Colombian Football Federation. He led the team in the matches against Paraguay and Brazil for the 2010 World Cup qualifiers.'"
            ]
          },
          "metadata": {
            "tags": []
          },
          "execution_count": 318
        }
      ]
    },
    {
      "cell_type": "markdown",
      "metadata": {
        "id": "6zHX5E0PCCfL",
        "colab_type": "text"
      },
      "source": [
        "*Create an object with a wikipedia page*"
      ]
    },
    {
      "cell_type": "code",
      "metadata": {
        "id": "5dJh6tmn7mVT",
        "colab_type": "code",
        "colab": {}
      },
      "source": [
        "# wikipedia page object is created \n",
        "page_object_eg = wikipedia.page(\"Harpdog Brown\")"
      ],
      "execution_count": 319,
      "outputs": []
    },
    {
      "cell_type": "markdown",
      "metadata": {
        "id": "iGlkIKtECSuT",
        "colab_type": "text"
      },
      "source": [
        "*Look at the content*"
      ]
    },
    {
      "cell_type": "code",
      "metadata": {
        "id": "VfmDxK-Q9mLY",
        "colab_type": "code",
        "colab": {
          "base_uri": "https://localhost:8080/",
          "height": 130
        },
        "outputId": "c0815f4b-b636-4126-c932-3a1e32fc9498"
      },
      "source": [
        "page_object_eg.content"
      ],
      "execution_count": 320,
      "outputs": [
        {
          "output_type": "execute_result",
          "data": {
            "application/vnd.google.colaboratory.intrinsic+json": {
              "type": "string"
            },
            "text/plain": [
              "'Harpdog Brown (born 28 January 1962) is an award-winning Canadian vocalist and harmonica player who has been active in Canada\\'s blues scene since 1982. His distinguished musical career was so honoured by the Maple Blues Awards in 2014, for harmonica player of the year. Then again in 2015 and for the third time in a row in 2016. He was also nominated for best male vocals and album of the year in 2016. The Maple Blues Awards are Canada\\'s equivalent of The Blues Music Award formerly the W. C. Handy Awards that take place yearly in Memphis, Tennessee. In that same year, he was also honoured with a lifetime membership to the Hamilton Blues Society.\\n\\n\\n== Early years ==\\nBrown was born in Edmonton, Alberta, Canada, and was adopted into in a family with a musical mother who played slide guitar. He began playing guitar at about age 15 in a local garage band. He later played in a duo that opened for performers in comedy clubs, and followed that with solo gigs as a singer and guitar player. In the early 1980s he answered an ad for a vocalist in a traveling road band. After six weeks on the road, he quit and put together his own traveling blues band.Harpdog got his stage name at a gig in Kitsilano Beach during the fall of 1989 at a place called Momma Gold’s. According to Harpdog, at the end of the show, two audience members began shouting \"Harpdog! Harpdog!\" He liked the name and went on to use it as his stage name. He eventually made it his legal name.\\n\\n\\n== Biography ==\\nBased in Vancouver, Brown has crossed tens of thousands of miles playing club dates and festivals in Canada, the northwestern United States and Germany. Over the years he has issued seven albums. In 1995 his Home Is Where the Harp Is won the Muddy Award for the Best NW Blues Release from the Cascade Blues Association in Portland, Oregon. Also that year, it was nominated for a Canadian Juno for the Best Blues/Gospel Recording. Teamed up with Graham Guest on piano, he issued the album Naturally which was voted No. 1 Canadian Blues Album of 2010 by The Blind Lemon Survey.Brown tours extensively with his guitarist J. Arthur Edmonds, performing their electric mid-1950s Chicago blues either as a duo, or with the full band. While he is home, he juggles a few combos working many venues big and small. He also leads The Harpdog Brown Band which is a gutsy traditional Chicago blues band. In 2014 they released What It Is, comprising mainly original songs and a few classic covers. Influential blues promoter and broadcaster Holger Petersen called What It Is Brown\\'s best album.\\n\\n\\n== Personal life ==\\nBrown has two older sisters. He changed his adopted name to Harpdog Brown after divorcing his wife, saying this left him \"free.\"\\n\\n\\n== Awards and recognitions ==\\n2015 Maple Blues Award, Harmonica Player of the Year\\n2016 Fraser Valley Music Awards, Blues Artist of the Year\\n2014 Maple Blues Award, Harmonica Player of the Year\\n2014 Hamilton Blues Society, Lifetime Award\\n1995 Muddy Award, Best NW Blues Release for Home Is Where the Harp Is\\n\\n\\n== Discography ==\\n2019: For Love And Money (Dog House Records)\\n2016: Travelin\\' With The Blues (Dog House Records)\\n2014: What It Is (Dogbreath Records)\\n2011: Naturally (Dogbreath Records)\\n2001: Once in a Howlin\\' Moon (Vat Records)\\n1994: Home Is Where the Harp Is (Candelight Records)\\n1993:  Beware Of Dog  (Spinner Music)\\n\\n\\n== References ==\\n\\n\\n== External links ==\\nHarpdog Brown Website\\nHarpdog Brown\\nHarpdog Brown Band \"Double Shot of Muddy\" Live @ The Rainbow Room from YouTube'"
            ]
          },
          "metadata": {
            "tags": []
          },
          "execution_count": 320
        }
      ]
    },
    {
      "cell_type": "markdown",
      "metadata": {
        "id": "3Ksuue1YCaK0",
        "colab_type": "text"
      },
      "source": [
        "*See links to images*"
      ]
    },
    {
      "cell_type": "code",
      "metadata": {
        "id": "xQgH-SSA9oIp",
        "colab_type": "code",
        "colab": {
          "base_uri": "https://localhost:8080/",
          "height": 54
        },
        "outputId": "905042f2-d1c6-45be-a705-5515e7c02e11"
      },
      "source": [
        "page_object_eg.images"
      ],
      "execution_count": 321,
      "outputs": [
        {
          "output_type": "execute_result",
          "data": {
            "text/plain": [
              "['https://upload.wikimedia.org/wikipedia/commons/0/01/Harpdog_Brown.jpg',\n",
              " 'https://upload.wikimedia.org/wikipedia/en/8/8a/OOjs_UI_icon_edit-ltr-progressive.svg']"
            ]
          },
          "metadata": {
            "tags": []
          },
          "execution_count": 321
        }
      ]
    },
    {
      "cell_type": "markdown",
      "metadata": {
        "id": "wag-7AjqVPr4",
        "colab_type": "text"
      },
      "source": [
        "##Exploration\n"
      ]
    },
    {
      "cell_type": "markdown",
      "metadata": {
        "id": "d-T62tZHMru6",
        "colab_type": "text"
      },
      "source": [
        "Name selection"
      ]
    },
    {
      "cell_type": "code",
      "metadata": {
        "id": "2yrV2i92MrHn",
        "colab_type": "code",
        "colab": {
          "base_uri": "https://localhost:8080/",
          "height": 35
        },
        "outputId": "348b7832-89d4-4cfc-dd4a-b51e3b0e3931"
      },
      "source": [
        "name_index = celebs[celebs['name'] == 'Roger Kamien'].index[0]\n",
        "name_index"
      ],
      "execution_count": 322,
      "outputs": [
        {
          "output_type": "execute_result",
          "data": {
            "text/plain": [
              "20032"
            ]
          },
          "metadata": {
            "tags": []
          },
          "execution_count": 322
        }
      ]
    },
    {
      "cell_type": "markdown",
      "metadata": {
        "id": "ZEnKtFlKMoA-",
        "colab_type": "text"
      },
      "source": [
        "*Explore a name through random selection...*\n",
        "\n",
        "*Pick a random number, explore the celebrity with that index number from the dataframe.*\n",
        "\n",
        "Our dataframe has 42,786 entries, so we need a range with the same size."
      ]
    },
    {
      "cell_type": "code",
      "metadata": {
        "id": "gATFwcJm-qD3",
        "colab_type": "code",
        "colab": {}
      },
      "source": [
        "random_pick = random.randint(0,42787)"
      ],
      "execution_count": 323,
      "outputs": []
    },
    {
      "cell_type": "code",
      "metadata": {
        "id": "BLuigUvnHZYf",
        "colab_type": "code",
        "colab": {
          "base_uri": "https://localhost:8080/",
          "height": 35
        },
        "outputId": "ada3513c-b24f-4dbd-e0b0-457ee0e67c41"
      },
      "source": [
        "random_pick"
      ],
      "execution_count": 324,
      "outputs": [
        {
          "output_type": "execute_result",
          "data": {
            "text/plain": [
              "21812"
            ]
          },
          "metadata": {
            "tags": []
          },
          "execution_count": 324
        }
      ]
    },
    {
      "cell_type": "markdown",
      "metadata": {
        "id": "12B28J5zEHhY",
        "colab_type": "text"
      },
      "source": [
        "*The selected celebrity is stored here as => my_pick*\n",
        "\n",
        "Select **either** the random_pick, or the name from => name_index for => my_pick"
      ]
    },
    {
      "cell_type": "code",
      "metadata": {
        "id": "_2lDeolkXKjJ",
        "colab_type": "code",
        "colab": {}
      },
      "source": [
        "my_pick = celebs.iloc[name_index]\n",
        "\n",
        "#my_pick = celebs.iloc[19044]\n",
        "\n",
        "#my_pick = celebs.iloc[random_pick]"
      ],
      "execution_count": 325,
      "outputs": []
    },
    {
      "cell_type": "markdown",
      "metadata": {
        "id": "tPBiZhZRDQ09",
        "colab_type": "text"
      },
      "source": [
        "*Let's see what the randomness gods have picked for us...*"
      ]
    },
    {
      "cell_type": "code",
      "metadata": {
        "id": "0gBj_JizaGZB",
        "colab_type": "code",
        "colab": {
          "base_uri": "https://localhost:8080/",
          "height": 90
        },
        "outputId": "e3f8bb71-b877-45d0-b5e7-eebf7eb377d5"
      },
      "source": [
        "my_pick"
      ],
      "execution_count": 326,
      "outputs": [
        {
          "output_type": "execute_result",
          "data": {
            "text/plain": [
              "URI            <http://dbpedia.org/resource/Roger_Kamien>\n",
              "name                                         Roger Kamien\n",
              "text    roger kamien born in 1934 is a retired profess...\n",
              "Name: 20032, dtype: object"
            ]
          },
          "metadata": {
            "tags": []
          },
          "execution_count": 326
        }
      ]
    },
    {
      "cell_type": "code",
      "metadata": {
        "id": "-79v8HjZDf8o",
        "colab_type": "code",
        "colab": {
          "base_uri": "https://localhost:8080/",
          "height": 35
        },
        "outputId": "571411f8-f132-4a97-f04c-3a6cc01045f8"
      },
      "source": [
        "print('The selection', my_pick['name'], 'has been chosen.')"
      ],
      "execution_count": 327,
      "outputs": [
        {
          "output_type": "stream",
          "text": [
            "The selection Roger Kamien has been chosen.\n"
          ],
          "name": "stdout"
        }
      ]
    },
    {
      "cell_type": "code",
      "metadata": {
        "id": "Z8pKRTr8aIuz",
        "colab_type": "code",
        "colab": {
          "base_uri": "https://localhost:8080/",
          "height": 35
        },
        "outputId": "7578a862-ba1b-416e-d5e9-c72b6f1ba399"
      },
      "source": [
        "type(my_pick)"
      ],
      "execution_count": 328,
      "outputs": [
        {
          "output_type": "execute_result",
          "data": {
            "text/plain": [
              "pandas.core.series.Series"
            ]
          },
          "metadata": {
            "tags": []
          },
          "execution_count": 328
        }
      ]
    },
    {
      "cell_type": "markdown",
      "metadata": {
        "id": "m9lq68AbEmSv",
        "colab_type": "text"
      },
      "source": [
        "*Have a look at the content*"
      ]
    },
    {
      "cell_type": "code",
      "metadata": {
        "id": "pXSnq6aobmZF",
        "colab_type": "code",
        "colab": {
          "base_uri": "https://localhost:8080/",
          "height": 130
        },
        "outputId": "54ce356b-0e39-41ef-de81-abee03e6d558"
      },
      "source": [
        "my_pick['text']"
      ],
      "execution_count": 329,
      "outputs": [
        {
          "output_type": "execute_result",
          "data": {
            "application/vnd.google.colaboratory.intrinsic+json": {
              "type": "string"
            },
            "text/plain": [
              "'roger kamien born in 1934 is a retired professor emeritus of musicology in the hebrew university of jerusalem israel he was born in paris and was raised in america he is the author of the book music an appreciation which is intended to show students the basics and the importance of music it is considered essentially a textbook because its use mostly in colleges and sometimes in high schools it is published by mcgrawhill and provides learners with information on how to understand classical and modern musickamien taught at queens college new york he developed the concept of the listening outline which he incorporated into the first edition of music an appreciation and which he has refined and enhanced in every subsequent edition this is a text intended for students of all levels and backgrounds the latest version is the eleventh it contains a multimedia cdrom and histories of jazz rock and classical music and details of the composition of an orchestrakamien has studied the piano with claudio arrau among others and schenkerian analysis with felix salzer and ernst oster he obtained a doctorate degree from princeton university in 1964he is the editor of the widely used series norton scores and the author of numerous academic articles on musicology'"
            ]
          },
          "metadata": {
            "tags": []
          },
          "execution_count": 329
        }
      ]
    },
    {
      "cell_type": "code",
      "metadata": {
        "id": "Ghj28ISNvp8j",
        "colab_type": "code",
        "colab": {
          "base_uri": "https://localhost:8080/",
          "height": 35
        },
        "outputId": "24ab14ff-7faa-448d-9350-26e7ded507fa"
      },
      "source": [
        "type(my_pick['text'])"
      ],
      "execution_count": 330,
      "outputs": [
        {
          "output_type": "execute_result",
          "data": {
            "text/plain": [
              "str"
            ]
          },
          "metadata": {
            "tags": []
          },
          "execution_count": 330
        }
      ]
    },
    {
      "cell_type": "code",
      "metadata": {
        "id": "KdUGlTWjbr5y",
        "colab_type": "code",
        "colab": {}
      },
      "source": [
        "#turns text into a 'list' that can be iterated over\n",
        "train_text = [my_pick['text']]"
      ],
      "execution_count": 331,
      "outputs": []
    },
    {
      "cell_type": "markdown",
      "metadata": {
        "id": "mQgsyWUQE0fb",
        "colab_type": "text"
      },
      "source": [
        "*I'm saving a string to be used for sentiment analysis later...*"
      ]
    },
    {
      "cell_type": "code",
      "metadata": {
        "id": "i_Fk37Nf40DQ",
        "colab_type": "code",
        "colab": {}
      },
      "source": [
        "sentiment_text = my_pick['text']"
      ],
      "execution_count": 332,
      "outputs": []
    },
    {
      "cell_type": "markdown",
      "metadata": {
        "id": "LZmeBcorFCiD",
        "colab_type": "text"
      },
      "source": [
        "##Processing"
      ]
    },
    {
      "cell_type": "markdown",
      "metadata": {
        "id": "LDTeUONcFH1L",
        "colab_type": "text"
      },
      "source": [
        "###Vector Analysis"
      ]
    },
    {
      "cell_type": "markdown",
      "metadata": {
        "id": "OoOnjNj0FdOP",
        "colab_type": "text"
      },
      "source": [
        "*Create a dictionary with a vector count for each unique word from the selected celebrity's content*"
      ]
    },
    {
      "cell_type": "code",
      "metadata": {
        "id": "16uh4Yd1b68L",
        "colab_type": "code",
        "colab": {
          "base_uri": "https://localhost:8080/",
          "height": 127
        },
        "outputId": "5f7b182a-dec8-494b-eaf4-6fe128a7b97b"
      },
      "source": [
        "vectorizer = CountVectorizer(stop_words='english')\n",
        "vectorizer.fit(train_text)"
      ],
      "execution_count": 333,
      "outputs": [
        {
          "output_type": "execute_result",
          "data": {
            "text/plain": [
              "CountVectorizer(analyzer='word', binary=False, decode_error='strict',\n",
              "                dtype=<class 'numpy.int64'>, encoding='utf-8', input='content',\n",
              "                lowercase=True, max_df=1.0, max_features=None, min_df=1,\n",
              "                ngram_range=(1, 1), preprocessor=None, stop_words='english',\n",
              "                strip_accents=None, token_pattern='(?u)\\\\b\\\\w\\\\w+\\\\b',\n",
              "                tokenizer=None, vocabulary=None)"
            ]
          },
          "metadata": {
            "tags": []
          },
          "execution_count": 333
        }
      ]
    },
    {
      "cell_type": "code",
      "metadata": {
        "id": "b9-ZTeVhcCce",
        "colab_type": "code",
        "colab": {
          "base_uri": "https://localhost:8080/",
          "height": 55
        },
        "outputId": "38490ff2-ff69-4118-f5bf-c68cacfa689f"
      },
      "source": [
        "print(vectorizer.vocabulary_)"
      ],
      "execution_count": 334,
      "outputs": [
        {
          "output_type": "stream",
          "text": [
            "{'roger': 73, 'kamien': 44, 'born': 12, '1934': 0, 'retired': 71, 'professor': 65, 'emeritus': 29, 'musicology': 54, 'hebrew': 34, 'university': 86, 'jerusalem': 43, 'israel': 41, 'paris': 62, 'raised': 69, 'america': 3, 'author': 8, 'book': 11, 'music': 52, 'appreciation': 5, 'intended': 40, 'students': 79, 'basics': 10, 'importance': 37, 'considered': 20, 'essentially': 32, 'textbook': 84, 'use': 87, 'colleges': 17, 'high': 35, 'schools': 76, 'published': 67, 'mcgrawhill': 49, 'provides': 66, 'learners': 46, 'information': 39, 'understand': 85, 'classical': 14, 'modern': 50, 'musickamien': 53, 'taught': 82, 'queens': 68, 'college': 16, 'new': 55, 'york': 91, 'developed': 24, 'concept': 19, 'listening': 48, 'outline': 61, 'incorporated': 38, 'edition': 26, 'refined': 70, 'enhanced': 30, 'subsequent': 81, 'text': 83, 'levels': 47, 'backgrounds': 9, 'latest': 45, 'version': 89, 'eleventh': 28, 'contains': 21, 'multimedia': 51, 'cdrom': 13, 'histories': 36, 'jazz': 42, 'rock': 72, 'details': 23, 'composition': 18, 'orchestrakamien': 59, 'studied': 80, 'piano': 63, 'claudio': 15, 'arrau': 6, 'schenkerian': 75, 'analysis': 4, 'felix': 33, 'salzer': 74, 'ernst': 31, 'oster': 60, 'obtained': 58, 'doctorate': 25, 'degree': 22, 'princeton': 64, '1964he': 1, 'editor': 27, 'widely': 90, 'used': 88, 'series': 78, 'norton': 56, 'scores': 77, 'numerous': 57, 'academic': 2, 'articles': 7}\n"
          ],
          "name": "stdout"
        }
      ]
    },
    {
      "cell_type": "markdown",
      "metadata": {
        "id": "olH8LwReFrNp",
        "colab_type": "text"
      },
      "source": [
        "*Transform it into an array.*"
      ]
    },
    {
      "cell_type": "code",
      "metadata": {
        "id": "KOgqpIWeyMe6",
        "colab_type": "code",
        "colab": {
          "base_uri": "https://localhost:8080/",
          "height": 72
        },
        "outputId": "4d9a5f98-8725-4781-cb8c-1c6c6efa6038"
      },
      "source": [
        "vector = vectorizer.transform(train_text)\n",
        "print(vector.toarray())"
      ],
      "execution_count": 335,
      "outputs": [
        {
          "output_type": "stream",
          "text": [
            "[[1 1 1 1 1 2 1 1 2 1 1 1 2 1 2 1 1 1 1 1 1 1 1 1 1 1 2 1 1 1 1 1 1 1 1 1\n",
            "  1 1 1 1 2 1 1 1 1 1 1 1 1 1 1 1 4 1 2 1 1 1 1 1 1 1 1 1 1 1 1 1 1 1 1 1\n",
            "  1 1 1 1 1 1 1 2 1 1 1 1 1 1 2 1 1 1 1 1]]\n"
          ],
          "name": "stdout"
        }
      ]
    },
    {
      "cell_type": "markdown",
      "metadata": {
        "id": "f4_lv2xVGG7T",
        "colab_type": "text"
      },
      "source": [
        "*Use the vectorizer on the whole celebrity dataframe*"
      ]
    },
    {
      "cell_type": "code",
      "metadata": {
        "id": "N1-R-QUnyqFG",
        "colab_type": "code",
        "colab": {}
      },
      "source": [
        "vect_people = CountVectorizer(stop_words='english')\n",
        "word_weight = vect_people.fit_transform(celebs['text'])"
      ],
      "execution_count": 336,
      "outputs": []
    },
    {
      "cell_type": "code",
      "metadata": {
        "id": "RS_pMdiD0Tly",
        "colab_type": "code",
        "colab": {
          "base_uri": "https://localhost:8080/",
          "height": 54
        },
        "outputId": "ecaa52d6-9dbb-4fe6-dbb5-ac1dc934237a"
      },
      "source": [
        "word_weight"
      ],
      "execution_count": 337,
      "outputs": [
        {
          "output_type": "execute_result",
          "data": {
            "text/plain": [
              "<42786x437190 sparse matrix of type '<class 'numpy.int64'>'\n",
              "\twith 5847547 stored elements in Compressed Sparse Row format>"
            ]
          },
          "metadata": {
            "tags": []
          },
          "execution_count": 337
        }
      ]
    },
    {
      "cell_type": "markdown",
      "metadata": {
        "id": "GWFaENCdGX3Z",
        "colab_type": "text"
      },
      "source": [
        "###Nearest Neighbors"
      ]
    },
    {
      "cell_type": "markdown",
      "metadata": {
        "id": "SXKdjokeGi22",
        "colab_type": "text"
      },
      "source": [
        "*Fit the Nearest Neighbors model with with the content from the celebrity dataframe* "
      ]
    },
    {
      "cell_type": "code",
      "metadata": {
        "id": "-b93mRQV0ikt",
        "colab_type": "code",
        "colab": {
          "base_uri": "https://localhost:8080/",
          "height": 72
        },
        "outputId": "62a1c7cf-1113-42c4-dc2d-f823e2bfe029"
      },
      "source": [
        "nn = NearestNeighbors(metric='euclidean')\n",
        "nn.fit(word_weight)"
      ],
      "execution_count": 338,
      "outputs": [
        {
          "output_type": "execute_result",
          "data": {
            "text/plain": [
              "NearestNeighbors(algorithm='auto', leaf_size=30, metric='euclidean',\n",
              "                 metric_params=None, n_jobs=None, n_neighbors=5, p=2,\n",
              "                 radius=1.0)"
            ]
          },
          "metadata": {
            "tags": []
          },
          "execution_count": 338
        }
      ]
    },
    {
      "cell_type": "markdown",
      "metadata": {
        "id": "XDtrcGqKHBw1",
        "colab_type": "text"
      },
      "source": [
        "*Use the model to find celebrities that are 'similar' to the previously selected celebrity. We will select 10 similar entries*"
      ]
    },
    {
      "cell_type": "code",
      "metadata": {
        "id": "hibL5_kt0pn5",
        "colab_type": "code",
        "colab": {}
      },
      "source": [
        "distances, indices = nn.kneighbors(word_weight[random_pick], n_neighbors=11)"
      ],
      "execution_count": 339,
      "outputs": []
    },
    {
      "cell_type": "code",
      "metadata": {
        "id": "vWVWxzAQ1SU4",
        "colab_type": "code",
        "colab": {
          "base_uri": "https://localhost:8080/",
          "height": 72
        },
        "outputId": "e171a54f-33b7-4d0b-8524-7b2b3942cad6"
      },
      "source": [
        "distances"
      ],
      "execution_count": 340,
      "outputs": [
        {
          "output_type": "execute_result",
          "data": {
            "text/plain": [
              "array([[ 0.        , 18.05547009, 18.1934054 , 18.24828759, 18.33030278,\n",
              "        18.38477631, 18.38477631, 18.41195264, 18.49324201, 18.49324201,\n",
              "        18.52025918]])"
            ]
          },
          "metadata": {
            "tags": []
          },
          "execution_count": 340
        }
      ]
    },
    {
      "cell_type": "markdown",
      "metadata": {
        "id": "E1IepSLXHjK1",
        "colab_type": "text"
      },
      "source": [
        "*This shows the indices of the similar entries...*"
      ]
    },
    {
      "cell_type": "code",
      "metadata": {
        "id": "JASCjjy11WTp",
        "colab_type": "code",
        "colab": {
          "base_uri": "https://localhost:8080/",
          "height": 54
        },
        "outputId": "2d0b25b0-64c6-416f-dd61-d6ae40cebf0b"
      },
      "source": [
        "indices"
      ],
      "execution_count": 341,
      "outputs": [
        {
          "output_type": "execute_result",
          "data": {
            "text/plain": [
              "array([[21812, 40486, 37702, 22426, 42166, 27102, 29959, 17504, 18886,\n",
              "          138, 26978]])"
            ]
          },
          "metadata": {
            "tags": []
          },
          "execution_count": 341
        }
      ]
    },
    {
      "cell_type": "markdown",
      "metadata": {
        "id": "KpbgZMmxHtFR",
        "colab_type": "text"
      },
      "source": [
        "Create a variable that stores a dataframe of similar entries as => ten_similar"
      ]
    },
    {
      "cell_type": "code",
      "metadata": {
        "id": "5QbiI2JM16yt",
        "colab_type": "code",
        "colab": {}
      },
      "source": [
        "ten_similar = celebs.iloc[indices[0],:]"
      ],
      "execution_count": 342,
      "outputs": []
    },
    {
      "cell_type": "code",
      "metadata": {
        "id": "58VauLOS1aw7",
        "colab_type": "code",
        "colab": {
          "base_uri": "https://localhost:8080/",
          "height": 394
        },
        "outputId": "2ac41244-b058-4a93-bb92-402a599ed250"
      },
      "source": [
        "ten_similar"
      ],
      "execution_count": 343,
      "outputs": [
        {
          "output_type": "execute_result",
          "data": {
            "text/html": [
              "<div>\n",
              "<style scoped>\n",
              "    .dataframe tbody tr th:only-of-type {\n",
              "        vertical-align: middle;\n",
              "    }\n",
              "\n",
              "    .dataframe tbody tr th {\n",
              "        vertical-align: top;\n",
              "    }\n",
              "\n",
              "    .dataframe thead th {\n",
              "        text-align: right;\n",
              "    }\n",
              "</style>\n",
              "<table border=\"1\" class=\"dataframe\">\n",
              "  <thead>\n",
              "    <tr style=\"text-align: right;\">\n",
              "      <th></th>\n",
              "      <th>URI</th>\n",
              "      <th>name</th>\n",
              "      <th>text</th>\n",
              "    </tr>\n",
              "  </thead>\n",
              "  <tbody>\n",
              "    <tr>\n",
              "      <th>21812</th>\n",
              "      <td>&lt;http://dbpedia.org/resource/Steven_Ruggles&gt;</td>\n",
              "      <td>Steven Ruggles</td>\n",
              "      <td>steven ruggles is regents professor professor ...</td>\n",
              "    </tr>\n",
              "    <tr>\n",
              "      <th>40486</th>\n",
              "      <td>&lt;http://dbpedia.org/resource/Dennis_DeTurck&gt;</td>\n",
              "      <td>Dennis DeTurck</td>\n",
              "      <td>dennis m deturck born july 15 1954 is an ameri...</td>\n",
              "    </tr>\n",
              "    <tr>\n",
              "      <th>37702</th>\n",
              "      <td>&lt;http://dbpedia.org/resource/Scott_Sanders_(no...</td>\n",
              "      <td>Scott Sanders (novelist)</td>\n",
              "      <td>scott russell sanders born 1945 in memphis ten...</td>\n",
              "    </tr>\n",
              "    <tr>\n",
              "      <th>22426</th>\n",
              "      <td>&lt;http://dbpedia.org/resource/Dorothy_E._Denning&gt;</td>\n",
              "      <td>Dorothy E. Denning</td>\n",
              "      <td>dorothy elizabeth denning the daughter of c lo...</td>\n",
              "    </tr>\n",
              "    <tr>\n",
              "      <th>42166</th>\n",
              "      <td>&lt;http://dbpedia.org/resource/Michael_W._Doyle&gt;</td>\n",
              "      <td>Michael W. Doyle</td>\n",
              "      <td>michael w doyle born 1948 is an international ...</td>\n",
              "    </tr>\n",
              "    <tr>\n",
              "      <th>27102</th>\n",
              "      <td>&lt;http://dbpedia.org/resource/Tiina_Nunnally&gt;</td>\n",
              "      <td>Tiina Nunnally</td>\n",
              "      <td>tiina nunnally born august 7 1952 is an americ...</td>\n",
              "    </tr>\n",
              "    <tr>\n",
              "      <th>29959</th>\n",
              "      <td>&lt;http://dbpedia.org/resource/Sara_McLanahan&gt;</td>\n",
              "      <td>Sara McLanahan</td>\n",
              "      <td>sara mclanahan is an american sociologistshe i...</td>\n",
              "    </tr>\n",
              "    <tr>\n",
              "      <th>17504</th>\n",
              "      <td>&lt;http://dbpedia.org/resource/Shayama_Chona&gt;</td>\n",
              "      <td>Shayama Chona</td>\n",
              "      <td>shayama chona hindi born 12 august 1942 is the...</td>\n",
              "    </tr>\n",
              "    <tr>\n",
              "      <th>18886</th>\n",
              "      <td>&lt;http://dbpedia.org/resource/Richard_Berthold&gt;</td>\n",
              "      <td>Richard Berthold</td>\n",
              "      <td>dr richard berthold born 1946 is a former tenu...</td>\n",
              "    </tr>\n",
              "    <tr>\n",
              "      <th>138</th>\n",
              "      <td>&lt;http://dbpedia.org/resource/Conrad_Phillip_Ko...</td>\n",
              "      <td>Conrad Phillip Kottak</td>\n",
              "      <td>conrad phillip kottak born october 6 1942 in a...</td>\n",
              "    </tr>\n",
              "    <tr>\n",
              "      <th>26978</th>\n",
              "      <td>&lt;http://dbpedia.org/resource/Joseph_A._Wolf&gt;</td>\n",
              "      <td>Joseph A. Wolf</td>\n",
              "      <td>joseph albert wolf born october 18 1936 in chi...</td>\n",
              "    </tr>\n",
              "  </tbody>\n",
              "</table>\n",
              "</div>"
            ],
            "text/plain": [
              "                                                     URI  \\\n",
              "21812       <http://dbpedia.org/resource/Steven_Ruggles>   \n",
              "40486       <http://dbpedia.org/resource/Dennis_DeTurck>   \n",
              "37702  <http://dbpedia.org/resource/Scott_Sanders_(no...   \n",
              "22426   <http://dbpedia.org/resource/Dorothy_E._Denning>   \n",
              "42166     <http://dbpedia.org/resource/Michael_W._Doyle>   \n",
              "27102       <http://dbpedia.org/resource/Tiina_Nunnally>   \n",
              "29959       <http://dbpedia.org/resource/Sara_McLanahan>   \n",
              "17504        <http://dbpedia.org/resource/Shayama_Chona>   \n",
              "18886     <http://dbpedia.org/resource/Richard_Berthold>   \n",
              "138    <http://dbpedia.org/resource/Conrad_Phillip_Ko...   \n",
              "26978       <http://dbpedia.org/resource/Joseph_A._Wolf>   \n",
              "\n",
              "                           name  \\\n",
              "21812            Steven Ruggles   \n",
              "40486            Dennis DeTurck   \n",
              "37702  Scott Sanders (novelist)   \n",
              "22426        Dorothy E. Denning   \n",
              "42166          Michael W. Doyle   \n",
              "27102            Tiina Nunnally   \n",
              "29959            Sara McLanahan   \n",
              "17504             Shayama Chona   \n",
              "18886          Richard Berthold   \n",
              "138       Conrad Phillip Kottak   \n",
              "26978            Joseph A. Wolf   \n",
              "\n",
              "                                                    text  \n",
              "21812  steven ruggles is regents professor professor ...  \n",
              "40486  dennis m deturck born july 15 1954 is an ameri...  \n",
              "37702  scott russell sanders born 1945 in memphis ten...  \n",
              "22426  dorothy elizabeth denning the daughter of c lo...  \n",
              "42166  michael w doyle born 1948 is an international ...  \n",
              "27102  tiina nunnally born august 7 1952 is an americ...  \n",
              "29959  sara mclanahan is an american sociologistshe i...  \n",
              "17504  shayama chona hindi born 12 august 1942 is the...  \n",
              "18886  dr richard berthold born 1946 is a former tenu...  \n",
              "138    conrad phillip kottak born october 6 1942 in a...  \n",
              "26978  joseph albert wolf born october 18 1936 in chi...  "
            ]
          },
          "metadata": {
            "tags": []
          },
          "execution_count": 343
        }
      ]
    },
    {
      "cell_type": "markdown",
      "metadata": {
        "id": "Ezz5-7BAH9zU",
        "colab_type": "text"
      },
      "source": [
        "###Sentiment Analysis"
      ]
    },
    {
      "cell_type": "markdown",
      "metadata": {
        "id": "A_YK2zJiIBlZ",
        "colab_type": "text"
      },
      "source": [
        "*Analyze the sentiment of the selected celebrity*"
      ]
    },
    {
      "cell_type": "code",
      "metadata": {
        "id": "VSvYEz2O1iCq",
        "colab_type": "code",
        "colab": {}
      },
      "source": [
        "gist = TextBlob(sentiment_text)"
      ],
      "execution_count": 344,
      "outputs": []
    },
    {
      "cell_type": "code",
      "metadata": {
        "id": "RWIKNeKo3_yT",
        "colab_type": "code",
        "colab": {
          "base_uri": "https://localhost:8080/",
          "height": 35
        },
        "outputId": "69917984-422a-4a9c-bd1c-ab6218d3d057"
      },
      "source": [
        "gist.sentiment"
      ],
      "execution_count": 345,
      "outputs": [
        {
          "output_type": "execute_result",
          "data": {
            "text/plain": [
              "Sentiment(polarity=0.12474025974025973, subjectivity=0.32699134199134194)"
            ]
          },
          "metadata": {
            "tags": []
          },
          "execution_count": 345
        }
      ]
    },
    {
      "cell_type": "markdown",
      "metadata": {
        "id": "uKuCGZhwIaUQ",
        "colab_type": "text"
      },
      "source": [
        "insert text about conclusion"
      ]
    },
    {
      "cell_type": "markdown",
      "metadata": {
        "id": "Q59j2uHG6SdQ",
        "colab_type": "text"
      },
      "source": [
        "###Wikipedia"
      ]
    },
    {
      "cell_type": "markdown",
      "metadata": {
        "id": "ApC-hJUVImCv",
        "colab_type": "text"
      },
      "source": [
        "*Lets search the person's name on wikipedia for analysis...*"
      ]
    },
    {
      "cell_type": "code",
      "metadata": {
        "id": "CNCppn8y6WRh",
        "colab_type": "code",
        "colab": {}
      },
      "source": [
        "name = my_pick['name']"
      ],
      "execution_count": 346,
      "outputs": []
    },
    {
      "cell_type": "code",
      "metadata": {
        "id": "Zb_EGmqL7Dmy",
        "colab_type": "code",
        "colab": {}
      },
      "source": [
        "wiki_select = wikipedia.page(name)"
      ],
      "execution_count": 347,
      "outputs": []
    },
    {
      "cell_type": "code",
      "metadata": {
        "id": "2n3xB86N7nFp",
        "colab_type": "code",
        "colab": {}
      },
      "source": [
        "wiki_text = wiki_select.content\n"
      ],
      "execution_count": 348,
      "outputs": []
    },
    {
      "cell_type": "code",
      "metadata": {
        "id": "MjxmiB6S76jn",
        "colab_type": "code",
        "colab": {
          "base_uri": "https://localhost:8080/",
          "height": 130
        },
        "outputId": "c4af9dc2-cb2c-43f6-d938-db0eb0256be3"
      },
      "source": [
        "wiki_text"
      ],
      "execution_count": 349,
      "outputs": [
        {
          "output_type": "execute_result",
          "data": {
            "application/vnd.google.colaboratory.intrinsic+json": {
              "type": "string"
            },
            "text/plain": [
              "'Roger Kamien (born 1934) is a retired professor emeritus of musicology in the Hebrew University of Jerusalem, Israel. He was born in Paris, and was raised in America. He is the author of the book Music: An Appreciation, which is intended to show students the basics and the importance of music. It is considered essentially a textbook because its use mostly in colleges (and sometimes in high schools). It is published by McGraw-Hill and provides learners with information on how to understand classical and modern music.\\nKamien taught at Queens College, New York. He developed the concept of the listening outline, which he incorporated into the first edition of Music: An Appreciation and which he has refined and enhanced in every subsequent edition. This is a text intended for students of all levels and backgrounds. The latest edition is the twelfth.   It contains a multimedia CD-ROM and histories of jazz, rock, and classical music and details of the composition of an orchestra.\\nKamien has studied the piano with Claudio Arrau, among others; and Schenkerian analysis with Felix Salzer and Ernst Oster. He obtained a doctorate degree from Princeton University in 1964.He is the editor of the widely used series Norton Scores, and the author of numerous academic articles on musicology.\\n\\n\\n== References ==\\n\\n\\n== Further reading ==\\nReviews of his books:\\n\\nMusic: An Appreciation.\\nMusic Educators Journal Nov 2001 v88 p69\\nTeaching Music August 1998 v6 p44\\nNorton Scores. (Book Review)\\nLibrary Journal Sept 1, 1972 p2712\\nOpera News Oct 12, 1968 p30\\nLibrary Journal Oct 1, 1968 p3564\\nThe New York Times Book Review Sept 8, 1968 p22\\n\\n\\n== External links ==\\nPersonal page at the Hebrew University site\\nOfficial page of the book Music: An Appreciation'"
            ]
          },
          "metadata": {
            "tags": []
          },
          "execution_count": 349
        }
      ]
    },
    {
      "cell_type": "markdown",
      "metadata": {
        "id": "IHwBRjbVJF22",
        "colab_type": "text"
      },
      "source": [
        "###Sentiment Analysis"
      ]
    },
    {
      "cell_type": "markdown",
      "metadata": {
        "id": "4Yj9m6R1FX3T",
        "colab_type": "text"
      },
      "source": [
        "*Create a TextBlob object from the wiki text*"
      ]
    },
    {
      "cell_type": "code",
      "metadata": {
        "id": "gMIlfTzG8NXo",
        "colab_type": "code",
        "colab": {}
      },
      "source": [
        "wiki_gist = TextBlob(wiki_text)"
      ],
      "execution_count": 350,
      "outputs": []
    },
    {
      "cell_type": "markdown",
      "metadata": {
        "id": "URrUMbjQFj3H",
        "colab_type": "text"
      },
      "source": [
        "*Read the sentiment*"
      ]
    },
    {
      "cell_type": "code",
      "metadata": {
        "id": "BEKkmpN59ZZm",
        "colab_type": "code",
        "colab": {
          "base_uri": "https://localhost:8080/",
          "height": 35
        },
        "outputId": "fbe7b120-01d8-4e04-9c8f-1d0a1feda54d"
      },
      "source": [
        "wiki_gist.sentiment"
      ],
      "execution_count": 351,
      "outputs": [
        {
          "output_type": "execute_result",
          "data": {
            "text/plain": [
              "Sentiment(polarity=0.1045959595959596, subjectivity=0.32957912457912447)"
            ]
          },
          "metadata": {
            "tags": []
          },
          "execution_count": 351
        }
      ]
    },
    {
      "cell_type": "markdown",
      "metadata": {
        "id": "HyWdZbqwJSHo",
        "colab_type": "text"
      },
      "source": [
        "*Now lets break the content into smaller chunks for analysis*"
      ]
    },
    {
      "cell_type": "code",
      "metadata": {
        "id": "6GvZyf1M9b44",
        "colab_type": "code",
        "colab": {}
      },
      "source": [
        "wiki_sentences = wiki_gist.sentences"
      ],
      "execution_count": 352,
      "outputs": []
    },
    {
      "cell_type": "code",
      "metadata": {
        "id": "OgJrI7Bw-WL8",
        "colab_type": "code",
        "colab": {
          "base_uri": "https://localhost:8080/",
          "height": 293
        },
        "outputId": "08ce3594-e2f9-4714-ca05-3da5cb200c98"
      },
      "source": [
        "y=[]\n",
        "for sentence in wiki_sentences:\n",
        "  y.append(sentence.sentiment[0])\n",
        "  print(sentence.sentiment[0])"
      ],
      "execution_count": 353,
      "outputs": [
        {
          "output_type": "stream",
          "text": [
            "0.0\n",
            "0.0\n",
            "0.0\n",
            "0.22\n",
            "0.1\n",
            "0.13636363636363635\n",
            "0.11666666666666665\n",
            "0.0\n",
            "0.5\n",
            "0.0\n",
            "0.0\n",
            "-0.03333333333333333\n",
            "0.0\n",
            "0.0\n",
            "0.04545454545454545\n"
          ],
          "name": "stdout"
        }
      ]
    },
    {
      "cell_type": "code",
      "metadata": {
        "id": "LquD08nhmTG0",
        "colab_type": "code",
        "colab": {
          "base_uri": "https://localhost:8080/",
          "height": 35
        },
        "outputId": "2d2a1c78-33d7-480a-cfaa-3d84f220cff1"
      },
      "source": [
        "type(sentence.sentiment[0])"
      ],
      "execution_count": 354,
      "outputs": [
        {
          "output_type": "execute_result",
          "data": {
            "text/plain": [
              "float"
            ]
          },
          "metadata": {
            "tags": []
          },
          "execution_count": 354
        }
      ]
    },
    {
      "cell_type": "code",
      "metadata": {
        "id": "KP_BeQYilTSD",
        "colab_type": "code",
        "colab": {
          "base_uri": "https://localhost:8080/",
          "height": 279
        },
        "outputId": "216243f6-8ef6-4f2f-c87b-6af949248547"
      },
      "source": [
        "plt.plot(y);\n",
        "plt.ylabel('Sentiment')\n",
        "plt.xlabel('Sentence')\n",
        "\n",
        "plt.show()"
      ],
      "execution_count": 355,
      "outputs": [
        {
          "output_type": "display_data",
          "data": {
            "image/png": "[encoded data removed]",
            "text/plain": [
              "<Figure size 432x288 with 1 Axes>"
            ]
          },
          "metadata": {
            "tags": [],
            "needs_background": "light"
          }
        }
      ]
    },
    {
      "cell_type": "code",
      "metadata": {
        "id": "_40MgT0Jo1zD",
        "colab_type": "code",
        "colab": {}
      },
      "source": [
        "ma = pd.DataFrame(y)"
      ],
      "execution_count": 356,
      "outputs": []
    },
    {
      "cell_type": "code",
      "metadata": {
        "id": "KuVbY3kWom95",
        "colab_type": "code",
        "colab": {}
      },
      "source": [
        "ma['MA'] = ma.rolling(window=5).mean()"
      ],
      "execution_count": 357,
      "outputs": []
    },
    {
      "cell_type": "code",
      "metadata": {
        "id": "cPGdSVVJpCgv",
        "colab_type": "code",
        "colab": {
          "base_uri": "https://localhost:8080/",
          "height": 311
        },
        "outputId": "6b138862-f326-454c-b8fa-ddb956802164"
      },
      "source": [
        "ma['MA']"
      ],
      "execution_count": 358,
      "outputs": [
        {
          "output_type": "execute_result",
          "data": {
            "text/plain": [
              "0          NaN\n",
              "1          NaN\n",
              "2          NaN\n",
              "3          NaN\n",
              "4     0.064000\n",
              "5     0.091273\n",
              "6     0.114606\n",
              "7     0.114606\n",
              "8     0.170606\n",
              "9     0.150606\n",
              "10    0.123333\n",
              "11    0.093333\n",
              "12    0.093333\n",
              "13   -0.006667\n",
              "14    0.002424\n",
              "Name: MA, dtype: float64"
            ]
          },
          "metadata": {
            "tags": []
          },
          "execution_count": 358
        }
      ]
    },
    {
      "cell_type": "code",
      "metadata": {
        "id": "lilF33VBzalH",
        "colab_type": "code",
        "colab": {
          "base_uri": "https://localhost:8080/",
          "height": 520
        },
        "outputId": "a7de95ea-fd2b-494d-b4f5-0060da2f43ca"
      },
      "source": [
        "ma"
      ],
      "execution_count": 369,
      "outputs": [
        {
          "output_type": "execute_result",
          "data": {
            "text/html": [
              "<div>\n",
              "<style scoped>\n",
              "    .dataframe tbody tr th:only-of-type {\n",
              "        vertical-align: middle;\n",
              "    }\n",
              "\n",
              "    .dataframe tbody tr th {\n",
              "        vertical-align: top;\n",
              "    }\n",
              "\n",
              "    .dataframe thead th {\n",
              "        text-align: right;\n",
              "    }\n",
              "</style>\n",
              "<table border=\"1\" class=\"dataframe\">\n",
              "  <thead>\n",
              "    <tr style=\"text-align: right;\">\n",
              "      <th></th>\n",
              "      <th>0</th>\n",
              "      <th>MA</th>\n",
              "    </tr>\n",
              "  </thead>\n",
              "  <tbody>\n",
              "    <tr>\n",
              "      <th>0</th>\n",
              "      <td>0.000000</td>\n",
              "      <td>NaN</td>\n",
              "    </tr>\n",
              "    <tr>\n",
              "      <th>1</th>\n",
              "      <td>0.000000</td>\n",
              "      <td>NaN</td>\n",
              "    </tr>\n",
              "    <tr>\n",
              "      <th>2</th>\n",
              "      <td>0.000000</td>\n",
              "      <td>NaN</td>\n",
              "    </tr>\n",
              "    <tr>\n",
              "      <th>3</th>\n",
              "      <td>0.220000</td>\n",
              "      <td>NaN</td>\n",
              "    </tr>\n",
              "    <tr>\n",
              "      <th>4</th>\n",
              "      <td>0.100000</td>\n",
              "      <td>0.064000</td>\n",
              "    </tr>\n",
              "    <tr>\n",
              "      <th>5</th>\n",
              "      <td>0.136364</td>\n",
              "      <td>0.091273</td>\n",
              "    </tr>\n",
              "    <tr>\n",
              "      <th>6</th>\n",
              "      <td>0.116667</td>\n",
              "      <td>0.114606</td>\n",
              "    </tr>\n",
              "    <tr>\n",
              "      <th>7</th>\n",
              "      <td>0.000000</td>\n",
              "      <td>0.114606</td>\n",
              "    </tr>\n",
              "    <tr>\n",
              "      <th>8</th>\n",
              "      <td>0.500000</td>\n",
              "      <td>0.170606</td>\n",
              "    </tr>\n",
              "    <tr>\n",
              "      <th>9</th>\n",
              "      <td>0.000000</td>\n",
              "      <td>0.150606</td>\n",
              "    </tr>\n",
              "    <tr>\n",
              "      <th>10</th>\n",
              "      <td>0.000000</td>\n",
              "      <td>0.123333</td>\n",
              "    </tr>\n",
              "    <tr>\n",
              "      <th>11</th>\n",
              "      <td>-0.033333</td>\n",
              "      <td>0.093333</td>\n",
              "    </tr>\n",
              "    <tr>\n",
              "      <th>12</th>\n",
              "      <td>0.000000</td>\n",
              "      <td>0.093333</td>\n",
              "    </tr>\n",
              "    <tr>\n",
              "      <th>13</th>\n",
              "      <td>0.000000</td>\n",
              "      <td>-0.006667</td>\n",
              "    </tr>\n",
              "    <tr>\n",
              "      <th>14</th>\n",
              "      <td>0.045455</td>\n",
              "      <td>0.002424</td>\n",
              "    </tr>\n",
              "  </tbody>\n",
              "</table>\n",
              "</div>"
            ],
            "text/plain": [
              "           0        MA\n",
              "0   0.000000       NaN\n",
              "1   0.000000       NaN\n",
              "2   0.000000       NaN\n",
              "3   0.220000       NaN\n",
              "4   0.100000  0.064000\n",
              "5   0.136364  0.091273\n",
              "6   0.116667  0.114606\n",
              "7   0.000000  0.114606\n",
              "8   0.500000  0.170606\n",
              "9   0.000000  0.150606\n",
              "10  0.000000  0.123333\n",
              "11 -0.033333  0.093333\n",
              "12  0.000000  0.093333\n",
              "13  0.000000 -0.006667\n",
              "14  0.045455  0.002424"
            ]
          },
          "metadata": {
            "tags": []
          },
          "execution_count": 369
        }
      ]
    },
    {
      "cell_type": "markdown",
      "metadata": {
        "id": "DxRlw_kwv3d0",
        "colab_type": "text"
      },
      "source": [
        "###Moving Average"
      ]
    },
    {
      "cell_type": "code",
      "metadata": {
        "id": "th3Ag3O6poi5",
        "colab_type": "code",
        "colab": {
          "base_uri": "https://localhost:8080/",
          "height": 404
        },
        "outputId": "c008f0b0-18cf-45b9-ba70-6d2c3658e243"
      },
      "source": [
        "plt.figure(figsize=(12,6));\n",
        "\n",
        "plt.plot(ma);\n",
        "plt.ylabel('Sentiment')\n",
        "plt.xlabel('Sentence')\n",
        "plt.title('Moving Average')\n",
        "plt.plot(0, \"-b\", label=\"sentiment\")\n",
        "plt.plot(0,\"orange\", label=\"moving average\")\n",
        "plt.plot()\n",
        "plt.legend(loc=\"upper left\")\n",
        "\n",
        "plt.show()"
      ],
      "execution_count": 390,
      "outputs": [
        {
          "output_type": "display_data",
          "data": {
            "image/png": "[encoded data removed]",
            "text/plain": [
              "<Figure size 864x432 with 1 Axes>"
            ]
          },
          "metadata": {
            "tags": [],
            "needs_background": "light"
          }
        }
      ]
    },
    {
      "cell_type": "markdown",
      "metadata": {
        "id": "mfMlUmdCJhPQ",
        "colab_type": "text"
      },
      "source": [
        "This shows a variation in the change of sentiment with the moving average. For an example, Charles Jones (19044), we see 3 times the moving average crosses the change in sentiment. This might infer that there are 3 authors for the wikipedia article, each with their own sentiment. This will be different depending on the input."
      ]
    },
    {
      "cell_type": "markdown",
      "metadata": {
        "id": "VYMewy2jv9Re",
        "colab_type": "text"
      },
      "source": [
        "###Summary"
      ]
    },
    {
      "cell_type": "code",
      "metadata": {
        "id": "GjFOPBbY_MT1",
        "colab_type": "code",
        "colab": {}
      },
      "source": [
        "summary = wikipedia.summary(name, sentences = 6)  "
      ],
      "execution_count": 360,
      "outputs": []
    },
    {
      "cell_type": "code",
      "metadata": {
        "id": "iPL3toFi_Ski",
        "colab_type": "code",
        "colab": {
          "base_uri": "https://localhost:8080/",
          "height": 91
        },
        "outputId": "23de16f1-d460-4cd4-b2c6-303d804509cd"
      },
      "source": [
        "summary"
      ],
      "execution_count": 361,
      "outputs": [
        {
          "output_type": "execute_result",
          "data": {
            "application/vnd.google.colaboratory.intrinsic+json": {
              "type": "string"
            },
            "text/plain": [
              "'Roger Kamien (born 1934) is a retired professor emeritus of musicology in the Hebrew University of Jerusalem, Israel. He was born in Paris, and was raised in America. He is the author of the book Music: An Appreciation, which is intended to show students the basics and the importance of music. It is considered essentially a textbook because its use mostly in colleges (and sometimes in high schools). It is published by McGraw-Hill and provides learners with information on how to understand classical and modern music.\\nKamien taught at Queens College, New York.'"
            ]
          },
          "metadata": {
            "tags": []
          },
          "execution_count": 361
        }
      ]
    },
    {
      "cell_type": "markdown",
      "metadata": {
        "id": "7uzes63NJni4",
        "colab_type": "text"
      },
      "source": [
        "##Conclusions"
      ]
    },
    {
      "cell_type": "markdown",
      "metadata": {
        "id": "oZGzZa8XJtU-",
        "colab_type": "text"
      },
      "source": [
        "- With vector analysis and k nearest neighbors we can find people that are similar to the target.\n",
        "-With TextBlob we can see the sentiment, good or bad, subjective or objective.\n",
        "-We can use these tools to gain further insight into the content of the subject.\n"
      ]
    }
  ]
}